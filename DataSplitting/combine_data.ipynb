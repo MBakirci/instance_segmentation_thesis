{
 "cells": [
  {
   "cell_type": "code",
   "execution_count": 1,
   "id": "8124b7da-f2d2-40eb-b4b9-a7b0050e5818",
   "metadata": {},
   "outputs": [],
   "source": [
    "import json\n",
    "import os\n",
    "from collections import defaultdict"
   ]
  },
  {
   "cell_type": "code",
   "execution_count": 4,
   "id": "aaae1176-71ca-4c8b-a482-4ed386d12883",
   "metadata": {},
   "outputs": [],
   "source": [
    "annotations_dir = '../data/d2s_annotations_v1.1/annotations'\n",
    "json_files = os.listdir(annotations_dir)"
   ]
  },
  {
   "cell_type": "code",
   "execution_count": 5,
   "id": "6069e7ac-9e23-45ae-b937-cec176ae76be",
   "metadata": {},
   "outputs": [],
   "source": [
    "python_objects = []\n",
    "\n",
    "for json_file in json_files:\n",
    "    with open(f'{annotations_dir}/{json_file}', \"r\") as f:\n",
    "        python_objects.append(json.load(f))\n",
    "\n",
    "with open(\"../combined.json\", \"w\") as f:\n",
    "    json.dump(python_objects, f, indent=4)"
   ]
  },
  {
   "cell_type": "code",
   "execution_count": 6,
   "id": "aa20c9f4-bc81-4f5e-9b43-26ba2f034b30",
   "metadata": {
    "tags": []
   },
   "outputs": [
    {
     "name": "stdout",
     "output_type": "stream",
     "text": [
      "17\n"
     ]
    }
   ],
   "source": [
    "com_dict = defaultdict(list)\n",
    "\n",
    "with open(f'../combined.json') as file_object:\n",
    "        # store file data in object\n",
    "        data = json.load(file_object)\n",
    "        print(len(data))\n",
    "        for d in data:\n",
    "            if 'annotations' not in d:\n",
    "                continue\n",
    "            com_dict['annotations'].extend(d['annotations'])\n",
    "            com_dict['images'].extend(d['images'])\n",
    "            com_dict['info'].extend(d['info'])\n",
    "            com_dict['licenses'].extend(d['licenses'])\n",
    "            com_dict['categories'].extend(d['categories'])"
   ]
  },
  {
   "cell_type": "code",
   "execution_count": 7,
   "id": "56c482a3-7ac3-4168-b1de-d9748f29eba1",
   "metadata": {
    "tags": []
   },
   "outputs": [],
   "source": [
    "with open(\"../combined_dict.json\", \"w\") as f:\n",
    "    json.dump(com_dict, f, indent=4)"
   ]
  },
  {
   "cell_type": "code",
   "execution_count": 8,
   "id": "5bc3e885-2007-4ef3-8007-c9c6b09e20aa",
   "metadata": {},
   "outputs": [],
   "source": [
    "def unique(sequence):\n",
    "    result = []\n",
    "    for item in sequence:\n",
    "        if item not in result:\n",
    "            result.append(item)\n",
    "    return result"
   ]
  },
  {
   "cell_type": "code",
   "execution_count": 9,
   "id": "7684bc00-d6f3-497e-85db-ea72c900302e",
   "metadata": {},
   "outputs": [],
   "source": [
    "def unique_by_id(sequence, id_name):\n",
    "    unique_dict = {}\n",
    "    for item in sequence:\n",
    "        unique_dict[item[id_name]] = item\n",
    "    return list(unique_dict.values())"
   ]
  },
  {
   "cell_type": "code",
   "execution_count": 10,
   "id": "c6618007-78bf-4cb7-bcd6-c607bb6156d2",
   "metadata": {},
   "outputs": [],
   "source": [
    "com_dict_unique = defaultdict(list)\n",
    "\n",
    "with open(f'../combined_dict.json') as file_object:\n",
    "        # store file data in object\n",
    "        data = json.load(file_object)    \n",
    "        com_dict_unique['images'] = unique_by_id(data['images'], 'id')\n",
    "        com_dict_unique['info'] = unique(data['info'])\n",
    "        com_dict_unique['licenses'] = unique(data['licenses'])\n",
    "        com_dict_unique['annotations'] = unique(data['annotations'])\n",
    "        com_dict_unique['categories'] = unique_by_id(data['categories'], 'id')"
   ]
  },
  {
   "cell_type": "code",
   "execution_count": 11,
   "id": "e50ce695-3fe0-401a-8ab9-9d4bdf02ef47",
   "metadata": {},
   "outputs": [],
   "source": [
    "with open(\"../combined_dict_unique.json\", \"w\") as f:\n",
    "    json.dump(com_dict_unique, f, indent=4)"
   ]
  },
  {
   "cell_type": "code",
   "execution_count": null,
   "id": "85303909-2ef2-42b7-ab94-7e2b5f5a5b93",
   "metadata": {},
   "outputs": [],
   "source": []
  }
 ],
 "metadata": {
  "kernelspec": {
   "display_name": "Python 3 (ipykernel)",
   "language": "python",
   "name": "python3"
  },
  "language_info": {
   "codemirror_mode": {
    "name": "ipython",
    "version": 3
   },
   "file_extension": ".py",
   "mimetype": "text/x-python",
   "name": "python",
   "nbconvert_exporter": "python",
   "pygments_lexer": "ipython3",
   "version": "3.10.12"
  }
 },
 "nbformat": 4,
 "nbformat_minor": 5
}
