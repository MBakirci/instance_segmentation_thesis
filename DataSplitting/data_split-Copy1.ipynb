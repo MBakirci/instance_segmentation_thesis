{
 "cells": [
  {
   "cell_type": "code",
   "execution_count": 1,
   "id": "a4a95199-577b-4b47-b587-e36d5f4cb45c",
   "metadata": {
    "tags": []
   },
   "outputs": [],
   "source": [
    "import pandas as pd\n",
    "import numpy as np\n",
    "import matplotlib.pyplot as plt\n",
    "import matplotlib.patches as patches\n",
    "from PIL import Image\n",
    "from skimage import measure\n",
    "from skimage.color import label2rgb\n",
    "from pycocotools.coco import COCO\n",
    "\n",
    "import json\n",
    "import os"
   ]
  },
  {
   "cell_type": "code",
   "execution_count": 2,
   "id": "302a076f-5079-406f-af66-3f15b6ae7bfa",
   "metadata": {
    "tags": []
   },
   "outputs": [],
   "source": [
    "import random\n",
    "from collections import defaultdict"
   ]
  },
  {
   "cell_type": "code",
   "execution_count": 3,
   "id": "d06042b3-6028-49c4-be0f-98c0b5961fa9",
   "metadata": {
    "tags": []
   },
   "outputs": [],
   "source": [
    "def save_dict_to_json(name, dict_set):\n",
    "    with open(f\"{name}.json\", \"w\") as f:\n",
    "        json.dump(dict_set, f, indent=4)"
   ]
  },
  {
   "cell_type": "code",
   "execution_count": 5,
   "id": "f161a67b-32b6-4165-9be2-6e9668e1aa1a",
   "metadata": {
    "tags": []
   },
   "outputs": [],
   "source": [
    "def get_anns_by_image_id(image_id, original_anns):\n",
    "    result = []\n",
    "    for ann in original_anns:\n",
    "        if ann['image_id'] == image_id:\n",
    "            result.append(ann)\n",
    "    return result\n",
    "    "
   ]
  },
  {
   "cell_type": "code",
   "execution_count": 21,
   "id": "55d3174b-04ef-4920-83a4-34b583784433",
   "metadata": {
    "tags": []
   },
   "outputs": [
    {
     "name": "stdout",
     "output_type": "stream",
     "text": [
      "263\n",
      "OK\n"
     ]
    }
   ],
   "source": [
    "with open(f'../train_set.json') as file_object:\n",
    "        data = json.load(file_object)\n",
    "        data.pop('info')\n",
    "        data.pop('licenses')\n",
    "        data.pop('categories')\n",
    "                \n",
    "        image_keys = ['license']\n",
    "        for image in data['images']:\n",
    "            for key in image_keys:\n",
    "                image.pop(key)\n",
    "        \n",
    "        train_set = defaultdict(list) #60%\n",
    "        train_set['images'] = data['images'][:60]        \n",
    "        for img in train_set['images']:\n",
    "            train_set['annotations'].extend(get_anns_by_image_id(img['id'], data['annotations']))\n",
    "            \n",
    "        print(len(train_set['annotations']))\n",
    "        save_dict_to_json('train_set_yolact_v1', train_set)\n",
    "        print('OK')"
   ]
  },
  {
   "cell_type": "code",
   "execution_count": 24,
   "id": "b4098809-ce2c-43ad-ad48-245829e8641f",
   "metadata": {},
   "outputs": [
    {
     "name": "stdout",
     "output_type": "stream",
     "text": [
      "2\n",
      "116\n",
      "OK\n"
     ]
    }
   ],
   "source": [
    "with open(f'../val_set.json') as file_object:\n",
    "        data = json.load(file_object)\n",
    "        data.pop('info')\n",
    "        data.pop('licenses')\n",
    "        data.pop('categories')\n",
    "        \n",
    "        print(len(data))\n",
    "        \n",
    "        image_keys = ['license']\n",
    "        for image in data['images']:\n",
    "            for key in image_keys:\n",
    "                image.pop(key)\n",
    "        \n",
    "        val_set = defaultdict(list) #20%        \n",
    "        val_set['images'] = data['images'][:20]        \n",
    "        for img in val_set['images']:\n",
    "            val_set['annotations'].extend(get_anns_by_image_id(img['id'], data['annotations']))\n",
    "            \n",
    "        print(len(val_set['annotations']))\n",
    "        save_dict_to_json('val_set_yolact_v1', val_set)\n",
    "        print('OK')"
   ]
  },
  {
   "cell_type": "code",
   "execution_count": null,
   "id": "07373991-3581-40ec-aff2-0a74c48c86b4",
   "metadata": {},
   "outputs": [],
   "source": []
  }
 ],
 "metadata": {
  "kernelspec": {
   "display_name": "Python 3 (ipykernel)",
   "language": "python",
   "name": "python3"
  },
  "language_info": {
   "codemirror_mode": {
    "name": "ipython",
    "version": 3
   },
   "file_extension": ".py",
   "mimetype": "text/x-python",
   "name": "python",
   "nbconvert_exporter": "python",
   "pygments_lexer": "ipython3",
   "version": "3.10.12"
  }
 },
 "nbformat": 4,
 "nbformat_minor": 5
}
