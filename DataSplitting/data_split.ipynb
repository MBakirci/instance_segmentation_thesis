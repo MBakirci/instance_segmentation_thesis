{
 "cells": [
  {
   "cell_type": "code",
   "execution_count": 76,
   "id": "a4a95199-577b-4b47-b587-e36d5f4cb45c",
   "metadata": {
    "tags": []
   },
   "outputs": [],
   "source": [
    "import pandas as pd\n",
    "import numpy as np\n",
    "import matplotlib.pyplot as plt\n",
    "import matplotlib.patches as patches\n",
    "from PIL import Image\n",
    "from skimage import measure\n",
    "from skimage.color import label2rgb\n",
    "from pycocotools.coco import COCO\n",
    "\n",
    "import json\n",
    "import os"
   ]
  },
  {
   "cell_type": "code",
   "execution_count": 77,
   "id": "302a076f-5079-406f-af66-3f15b6ae7bfa",
   "metadata": {
    "tags": []
   },
   "outputs": [],
   "source": [
    "import random\n",
    "from collections import defaultdict"
   ]
  },
  {
   "cell_type": "code",
   "execution_count": 78,
   "id": "e79ba857-c477-4387-be45-a0a3182d1f31",
   "metadata": {
    "tags": []
   },
   "outputs": [],
   "source": [
    "def get_anns_by_image_id(image_id, original_anns):\n",
    "    result = []\n",
    "    for ann in original_anns:\n",
    "        if ann['image_id'] == image_id:\n",
    "            result.append(ann)\n",
    "    return result\n",
    "    "
   ]
  },
  {
   "cell_type": "code",
   "execution_count": 79,
   "id": "7b1cd443-6718-4080-bd7d-9c1d233238b5",
   "metadata": {
    "tags": []
   },
   "outputs": [],
   "source": [
    "def copy_dict_to_set(dict_set, key, original_data):\n",
    "    dict_set[key] = original_data[key]"
   ]
  },
  {
   "cell_type": "code",
   "execution_count": 80,
   "id": "e54b685b-41aa-4c57-92de-d6c00ad35088",
   "metadata": {
    "tags": []
   },
   "outputs": [],
   "source": [
    "def save_dict_to_json(name, dict_set):\n",
    "    with open(f\"../{name}.json\", \"w\") as f:\n",
    "        json.dump(dict_set, f, indent=4)"
   ]
  },
  {
   "cell_type": "code",
   "execution_count": 81,
   "id": "79a0c747-098f-4f57-a9b2-492fac524305",
   "metadata": {
    "tags": []
   },
   "outputs": [],
   "source": [
    "train_set = defaultdict(list) #60%\n",
    "val_set = defaultdict(list) #20%\n",
    "test_set = defaultdict(list) #20%"
   ]
  },
  {
   "cell_type": "code",
   "execution_count": 82,
   "id": "55d3174b-04ef-4920-83a4-34b583784433",
   "metadata": {
    "tags": []
   },
   "outputs": [
    {
     "name": "stdout",
     "output_type": "stream",
     "text": [
      "total images 17980\n",
      "training set size = 10788\n",
      "val set size = 3596\n",
      "test set size = 3596\n"
     ]
    }
   ],
   "source": [
    "with open(f'../combined_dict_unique.json') as file_object:\n",
    "        data = json.load(file_object)\n",
    "        \n",
    "        print(f\"total images {len(data['images'])}\")\n",
    "        train_size = int(len(data['images'])*0.6)\n",
    "        val_size = int(len(data['images'])*0.2)\n",
    "        test_size = int(len(data['images'])*0.2)\n",
    "        \n",
    "        print(f\"training set size = {train_size}\") #10788\n",
    "        print(f\"val set size = {val_size}\") #3596\n",
    "        print(f\"test set size = {test_size}\") #3596\n",
    "        \n",
    "        # print(data['images'][:10])\n",
    "        random.shuffle(data['images'])\n",
    "        # # verify shuffled\n",
    "        # print(data['images'][:10])\n",
    "        \n",
    "        \n",
    "        train_set['images'] = data['images'][:train_size]\n",
    "        # print(len(train_set['images']))\n",
    "        val_set['images'] = data['images'][train_size:train_size+val_size]\n",
    "        # print(len(val_set['images']))\n",
    "        test_set['images'] = data['images'][train_size+val_size:train_size+val_size+test_size]\n",
    "        # print(len(test_set['images']))\n",
    "\n",
    "        # # verify no overlap in first and last items\n",
    "        # print(train_set['images'][-1])\n",
    "        # print(val_set['images'][0])\n",
    "        # print(val_set['images'][-1])\n",
    "        # print(test_set['images'][0])\n",
    "\n",
    "        for img in train_set['images']:\n",
    "            train_set['annotations'].extend(get_anns_by_image_id(img['id'], data['annotations']))\n",
    "            \n",
    "        for img in val_set['images']:\n",
    "            val_set['annotations'].extend(get_anns_by_image_id(img['id'], data['annotations']))\n",
    "            \n",
    "        for img in test_set['images']:\n",
    "            test_set['annotations'].extend(get_anns_by_image_id(img['id'], data['annotations']))\n",
    "            \n",
    "        # print(len(train_set['annotations']))\n",
    "        # print(len(val_set['annotations']))\n",
    "        # print(len(test_set['annotations']))\n",
    "        \n",
    "        for key in data.keys():\n",
    "            if key != 'images' and key != 'annotations':\n",
    "                copy_dict_to_set(train_set, key, data)\n",
    "                copy_dict_to_set(val_set, key, data)\n",
    "                copy_dict_to_set(test_set, key, data)\n",
    "        \n",
    "        save_dict_to_json('train_set', train_set)\n",
    "        save_dict_to_json('val_set', val_set)\n",
    "        save_dict_to_json('test_set', test_set)"
   ]
  },
  {
   "cell_type": "code",
   "execution_count": null,
   "id": "b4098809-ce2c-43ad-ad48-245829e8641f",
   "metadata": {},
   "outputs": [],
   "source": []
  }
 ],
 "metadata": {
  "kernelspec": {
   "display_name": "Python 3 (ipykernel)",
   "language": "python",
   "name": "python3"
  },
  "language_info": {
   "codemirror_mode": {
    "name": "ipython",
    "version": 3
   },
   "file_extension": ".py",
   "mimetype": "text/x-python",
   "name": "python",
   "nbconvert_exporter": "python",
   "pygments_lexer": "ipython3",
   "version": "3.10.12"
  }
 },
 "nbformat": 4,
 "nbformat_minor": 5
}
